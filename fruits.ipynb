{
 "metadata": {
  "language_info": {
   "codemirror_mode": {
    "name": "ipython",
    "version": 3
   },
   "file_extension": ".py",
   "mimetype": "text/x-python",
   "name": "python",
   "nbconvert_exporter": "python",
   "pygments_lexer": "ipython3",
   "version": "3.8.5"
  },
  "orig_nbformat": 4,
  "kernelspec": {
   "name": "python3",
   "display_name": "Python 3.8.5 64-bit ('mlprepvenv': conda)"
  },
  "interpreter": {
   "hash": "0d36bd58cba56775d64ae8c385414d1ace0553a47a1337db72a9fd5d40f77dd2"
  }
 },
 "nbformat": 4,
 "nbformat_minor": 2,
 "cells": [
  {
   "source": [
    "{}\n",
    "1. List manipulation"
   ],
   "cell_type": "markdown",
   "metadata": {}
  },
  {
   "cell_type": "code",
   "execution_count": 2,
   "metadata": {},
   "outputs": [],
   "source": [
    "import random"
   ]
  },
  {
   "cell_type": "code",
   "execution_count": 3,
   "metadata": {},
   "outputs": [
    {
     "output_type": "stream",
     "name": "stdout",
     "text": [
      "['potato', 'banana', 'cucumber', 'lemon', 'pineapple', 'pear']\nbanana\ncucumber\nlemon\npear\npineapple\npotato\n"
     ]
    }
   ],
   "source": [
    "# a) Create a list with 5 fruit names\n",
    "fruit_names = ['apple', 'banana', 'pear', 'lemon', 'pineapple']\n",
    "\n",
    "# b) Extend the fruit_names list with 2 vegetables\n",
    "fruit_names.extend(['potato', 'cucumber'])\n",
    "\n",
    "# c) Shuffle the list\n",
    "random.shuffle(fruit_names)\n",
    "# d) Find the position of first vegetable\n",
    "fruit_names.index('potato')\n",
    "\n",
    "# e) Remove one fruit\n",
    "fruit_names.remove('apple')\n",
    "\n",
    "# f) Print the results\n",
    "print(fruit_names)\n",
    "# g) Sort the list in alphabetical order\n",
    "fruit_names.sort()\n",
    "\n",
    "# h) Print each element of a list using a loop\n",
    "\n",
    "for name in fruit_names:\n",
    "    print(name)"
   ]
  },
  {
   "cell_type": "code",
   "execution_count": 4,
   "metadata": {},
   "outputs": [
    {
     "output_type": "stream",
     "name": "stdout",
     "text": [
      "fruit_names: ['apple', 'banana', 'pear', 'lemon', 'pineapple']\nvegetables: ['potato', 'cucumber']\n['banana', 'cucumber', 'lemon', 'pear', 'pineapple', 'potato']\nbanana\ncucumber\nlemon\npear\npineapple\npotato\n"
     ]
    }
   ],
   "source": [
    "# i) Modify above code to be able to repeat all above steps to get the same results each time\n",
    "#\n",
    "\n",
    "import random\n",
    "fruit_names = ['apple', 'banana', 'pear', 'lemon', 'pineapple']\n",
    "print(f'fruit_names: {fruit_names}')\n",
    "fruit_names.sort()\n",
    "vege = ['potato', 'cucumber']\n",
    "print(f'vegetables: {vege}')\n",
    "vege.sort()\n",
    "fruit_names.extend(vege)\n",
    "random.shuffle(fruit_names)\n",
    "fruit_names.sort()\n",
    "fruit_names.index('potato')\n",
    "fruit_names.remove('apple')\n",
    "print(fruit_names)\n",
    "\n",
    "for name in fruit_names:\n",
    "    print(name)"
   ]
  },
  {
   "cell_type": "code",
   "execution_count": null,
   "metadata": {},
   "outputs": [],
   "source": []
  }
 ]
}